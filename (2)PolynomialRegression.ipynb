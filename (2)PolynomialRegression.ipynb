{
  "nbformat": 4,
  "nbformat_minor": 0,
  "metadata": {
    "colab": {
      "provenance": []
    },
    "kernelspec": {
      "name": "python3",
      "display_name": "Python 3"
    },
    "language_info": {
      "name": "python"
    }
  },
  "cells": [
    {
      "cell_type": "code",
      "source": [
        "import numpy as np"
      ],
      "metadata": {
        "id": "UVLSSB0feCUE"
      },
      "execution_count": null,
      "outputs": []
    },
    {
      "cell_type": "markdown",
      "source": [
        "**Question 8**"
      ],
      "metadata": {
        "id": "D9EpVS8bev56"
      }
    },
    {
      "cell_type": "code",
      "execution_count": null,
      "metadata": {
        "id": "0PXG7R0RdEFF"
      },
      "outputs": [],
      "source": [
        "def create_polynomial_features(X, degree=2):\n",
        "    \"\"\"Creates the polynomial features\n",
        "    Args:\n",
        "        X: A array for the data.\n",
        "        degree: A intege for the degree of\n",
        "        the generated polynomial function.\n",
        "    \"\"\"\n",
        "    X_mem = []\n",
        "    for X_sub in X.T:\n",
        "        X_sub = X_sub.T\n",
        "        X_new = X_sub\n",
        "        for d in range(2, degree+1):\n",
        "            X_new = np.c_[X_new, np.power(X_sub, d)]\n",
        "        X_mem.extend(X_new.T)\n",
        "    return np.c_[X_mem].T"
      ]
    }
  ]
}